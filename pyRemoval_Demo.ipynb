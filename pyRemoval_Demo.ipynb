{
 "cells": [
  {
   "cell_type": "markdown",
   "metadata": {},
   "source": [
    "# `pyRemoval` package usage demostation"
   ]
  },
  {
   "cell_type": "markdown",
   "metadata": {},
   "source": [
    "## Processing a video with different filters"
   ]
  },
  {
   "cell_type": "markdown",
   "metadata": {},
   "source": [
    "### Import the required modules"
   ]
  },
  {
   "cell_type": "code",
   "execution_count": 1,
   "metadata": {},
   "outputs": [],
   "source": [
    "from pyRemoval.processing.converter import apply_filter\n",
    "from pyRemoval.processing.filters import medianblur, peppernoise, timeblur_sliding\n",
    "from pyRemoval.processing.extract import facial_roi"
   ]
  },
  {
   "cell_type": "markdown",
   "metadata": {},
   "source": [
    "### Define parameters"
   ]
  },
  {
   "cell_type": "code",
   "execution_count": 2,
   "metadata": {},
   "outputs": [],
   "source": [
    "input_path = '/path/to/input/video.avi'\n",
    "output_path = 'path/to/output/video.avi'\n",
    "roi_func = facial_roi"
   ]
  },
  {
   "cell_type": "markdown",
   "metadata": {},
   "source": [
    "#### Median Blur Filter"
   ]
  },
  {
   "cell_type": "code",
   "execution_count": null,
   "metadata": {},
   "outputs": [],
   "source": [
    "# Define filter and filter parameters\n",
    "filter_func = medianblur\n",
    "filter_temporal = False\n",
    "filter_params = {'kernel_size': 5}\n",
    "\n",
    "# Apply filter\n",
    "apply_filter(input_path, output_path, filter_func, filter_temporal, roi_func, filter_params) "
   ]
  },
  {
   "cell_type": "markdown",
   "metadata": {},
   "source": [
    "#### Pepper Noise Filter"
   ]
  },
  {
   "cell_type": "code",
   "execution_count": null,
   "metadata": {},
   "outputs": [],
   "source": [
    "# Define filter and filter parameters (no parameters in this case)\n",
    "filter_func = peppernoise\n",
    "filter_temporal = False\n",
    "\n",
    "# Apply filter\n",
    "apply_filter(input_path, output_path, filter_func, filter_temporal, roi_func) "
   ]
  },
  {
   "cell_type": "markdown",
   "metadata": {},
   "source": [
    "#### Time Blur Sliding Window Filter"
   ]
  },
  {
   "cell_type": "code",
   "execution_count": null,
   "metadata": {},
   "outputs": [],
   "source": [
    "# Define filter and filter parameters\n",
    "filter_func = timeblur_sliding\n",
    "filter_temporal = 'timeblur_sliding'\n",
    "filter_params = {'window_size': 5}\n",
    "\n",
    "# Apply filter\n",
    "apply_filter(input_path, output_path, filter_func, filter_temporal, roi_func, filter_params) "
   ]
  },
  {
   "cell_type": "markdown",
   "metadata": {},
   "source": [
    "To create a new filter add the function to pyRemoval/processing/filters.py file, import the function here and use it by changing the `filter_func` variable and the `filter_params` variable.``"
   ]
  },
  {
   "cell_type": "markdown",
   "metadata": {},
   "source": [
    "## Measure the Mean Square Error (MSE) between the original and the processed video"
   ]
  },
  {
   "cell_type": "markdown",
   "metadata": {},
   "source": [
    "### Import the required modules"
   ]
  },
  {
   "cell_type": "code",
   "execution_count": 5,
   "metadata": {},
   "outputs": [],
   "source": [
    "from pyRemoval.utils.image import compute_errors\n",
    "from pyRemoval.metrics import mse"
   ]
  },
  {
   "cell_type": "markdown",
   "metadata": {},
   "source": [
    "### Define path of the videos"
   ]
  },
  {
   "cell_type": "code",
   "execution_count": 6,
   "metadata": {},
   "outputs": [],
   "source": [
    "original_video_path = '/path/to/original/video.mp4'\n",
    "modified_video_path = '/path/to/modified/video.mp4'"
   ]
  },
  {
   "cell_type": "markdown",
   "metadata": {},
   "source": [
    "### Measure MSE"
   ]
  },
  {
   "cell_type": "code",
   "execution_count": null,
   "metadata": {},
   "outputs": [],
   "source": [
    "mse_val = compute_errors(original_video_path, modified_video_path, mse)"
   ]
  },
  {
   "cell_type": "markdown",
   "metadata": {},
   "source": [
    "To use create a new metric add the function to pyRemoval/processing/metrics.py file, import the function here and use it by changing the `metric_func` variable."
   ]
  },
  {
   "cell_type": "markdown",
   "metadata": {},
   "source": [
    "## Measure the speed of the processing"
   ]
  },
  {
   "cell_type": "markdown",
   "metadata": {},
   "source": [
    "### Import the required modules"
   ]
  },
  {
   "cell_type": "code",
   "execution_count": 7,
   "metadata": {},
   "outputs": [],
   "source": [
    "from pyRemoval.processing.converter import apply_filter_live\n",
    "from pyRemoval.processing.filters import peppernoise\n",
    "from pyRemoval.processing.extract import selected_facial_roi\n",
    "from pyRemoval.metrics.speed import fps"
   ]
  },
  {
   "cell_type": "markdown",
   "metadata": {},
   "source": [
    "### Define the parameters"
   ]
  },
  {
   "cell_type": "code",
   "execution_count": 8,
   "metadata": {},
   "outputs": [],
   "source": [
    "filter_func = peppernoise\n",
    "filter_temporal = False\n",
    "roi_func = selected_facial_roi\n",
    "filter_params = {}\n",
    "metric = fps\n",
    "display = False\n",
    "frames_to_process = 1000"
   ]
  },
  {
   "cell_type": "markdown",
   "metadata": {},
   "source": [
    "### Measure the fps"
   ]
  },
  {
   "cell_type": "code",
   "execution_count": null,
   "metadata": {},
   "outputs": [],
   "source": [
    "fps_list = apply_filter_live(filter_func, filter_temporal, roi_func, filter_params, fps, display, frames_to_process)\n",
    "\n",
    "print('\\nAverage FPS: {:.2f}'.format(sum(fps_list)/len(fps_list)))"
   ]
  },
  {
   "cell_type": "markdown",
   "metadata": {},
   "source": [
    "To use create a new metric add the function to pyRemoval/processing/metrics.py file, import the function here and use it by changing the `metric` variable."
   ]
  }
 ],
 "metadata": {
  "kernelspec": {
   "display_name": "MachineLearning",
   "language": "python",
   "name": "python3"
  },
  "language_info": {
   "codemirror_mode": {
    "name": "ipython",
    "version": 3
   },
   "file_extension": ".py",
   "mimetype": "text/x-python",
   "name": "python",
   "nbconvert_exporter": "python",
   "pygments_lexer": "ipython3",
   "version": "3.10.12"
  }
 },
 "nbformat": 4,
 "nbformat_minor": 2
}
